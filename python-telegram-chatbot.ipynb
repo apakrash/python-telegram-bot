{
 "cells": [
  {
   "cell_type": "markdown",
   "metadata": {
    "collapsed": true
   },
   "source": [
    "## Telegram bot\n",
    "### echo the message back\n",
    "\n",
    "### lemmatization done\n",
    "### code sanitization done"
   ]
  },
  {
   "cell_type": "markdown",
   "metadata": {
    "collapsed": true
   },
   "source": [
    "## production code"
   ]
  },
  {
   "cell_type": "code",
   "execution_count": 1,
   "metadata": {},
   "outputs": [
    {
     "name": "stdout",
     "output_type": "stream",
     "text": [
      "The Matrix has you\n",
      "games changing\n",
      "wolves\n"
     ]
    },
    {
     "name": "stderr",
     "output_type": "stream",
     "text": [
      "2018-07-18 02:56:06,438 - telegram.ext.updater - INFO - Received signal 2 (SIGINT), stopping...\n"
     ]
    }
   ],
   "source": [
    "# <libraries>\n",
    "\n",
    "import nltk\n",
    "from telegram.ext import Updater, CommandHandler, MessageHandler, Filters\n",
    "import logging\n",
    "\n",
    "# </libraries>\n",
    "\n",
    "# <global settings>\n",
    "\n",
    "\n",
    "global allMessages\n",
    "allMessages=[]\n",
    "\n",
    "#just to test if interupt has broken sequence\n",
    "print('The Matrix has you')\n",
    "\n",
    "#sample file name\n",
    "file='allMessages.txt' \n",
    "\n",
    "# </global settings>\n",
    "\n",
    "\n",
    "\n",
    "# Enable logging\n",
    "logging.basicConfig(format='%(asctime)s - %(name)s - %(levelname)s - %(message)s',\n",
    "                    level=logging.INFO)\n",
    "\n",
    "logger = logging.getLogger(__name__)\n",
    "\n",
    "# <functions>\n",
    "\n",
    "\n",
    "def tokenLemmatizer(text):\n",
    "    lemmatizer=nltk.stem.WordNetLemmatizer()\n",
    "    tokenizer3 = nltk.tokenize.WordPunctTokenizer()\n",
    "    tokens = tokenizer3.tokenize(text)\n",
    "    return (\" \".join(lemmatizer.lemmatize(token) for token in tokens))\n",
    "\n",
    "\n",
    "def writeFile(file,allMessages):\n",
    "    fh = open(\"allMessages.txt\",'a')\n",
    "    sampleString=''\n",
    "    for listElement in allMessages:\n",
    "        sampleString+=listElement\n",
    "        sampleString+='\\n'\n",
    "    fh.write(sampleString)\n",
    "    fh.close()\n",
    "\n",
    "def writeLineToFile(file,line):\n",
    "    fh = open(\"allMessages.txt\",'a')\n",
    "    line+='\\n'\n",
    "    fh.write(line)\n",
    "    fh.close()\n",
    "\n",
    "def printFile(file):\n",
    "    fh = open(\"hello1.txt\",\"r\")\n",
    "    print(fh.read())\n",
    "    fh.close()\n",
    "    \n",
    "    \n",
    "# Define a few command handlers. These usually take the two arguments bot and\n",
    "# update. Error handlers also receive the raised TelegramError object in error.\n",
    "def start(bot, update):\n",
    "    \"\"\"Send a message when the command /start is issued.\"\"\"\n",
    "    update.message.reply_text('Welcome back sir!')\n",
    "\n",
    "\n",
    "def help(bot, update):\n",
    "    \"\"\"Send a message when the command /help is issued.\"\"\"\n",
    "    update.message.reply_text('Help!')\n",
    "\n",
    "'''\n",
    "\n",
    "The function echo is the game changing function\n",
    "\n",
    "'''\n",
    "    \n",
    "def echo(bot, update):\n",
    "    \"\"\"Echo the user message.\"\"\"\n",
    "    print(update.message.text)\n",
    "    allMessages.append(update.message.text)\n",
    "    writeLineToFile(file,update.message.text)\n",
    "    update.message.text = tokenLemmatizer(update.message.text)\n",
    "    update.message.reply_text(update.message.text)\n",
    "\n",
    "\n",
    "def error(bot, update, error):\n",
    "    \"\"\"Log Errors caused by Updates.\"\"\"\n",
    "    logger.warning('Update \"%s\" caused error \"%s\"', update, error)\n",
    "\n",
    "\n",
    "def main():\n",
    "    \"\"\"Start the bot.\"\"\"\n",
    "    # Create the EventHandler and pass it your bot's token.\n",
    "    updater = Updater(\"587108935:AAHsR6nwAGvg5ipronqlUss9sVluR--4aoM\")\n",
    "\n",
    "    # Get the dispatcher to register handlers\n",
    "    dp = updater.dispatcher\n",
    "\n",
    "    # on different commands - answer in Telegram\n",
    "    dp.add_handler(CommandHandler(\"start\", start))\n",
    "    dp.add_handler(CommandHandler(\"help\", help))\n",
    "\n",
    "    # on noncommand i.e message - echo the message on Telegram\n",
    "    dp.add_handler(MessageHandler(Filters.text, echo))\n",
    "\n",
    "    # log all errors\n",
    "    dp.add_error_handler(error)\n",
    "\n",
    "    # Start the Bot\n",
    "    updater.start_polling()\n",
    "\n",
    "    # Run the bot until you press Ctrl-C or the process receives SIGINT,\n",
    "    # SIGTERM or SIGABRT. This should be used most of the time, since\n",
    "    # start_polling() is non-blocking and will stop the bot gracefully.\n",
    "    updater.idle()\n",
    "    \n",
    "# <functions>\n",
    "\n",
    "if __name__ == '__main__':\n",
    "    main()\n"
   ]
  },
  {
   "cell_type": "code",
   "execution_count": null,
   "metadata": {},
   "outputs": [],
   "source": []
  },
  {
   "cell_type": "markdown",
   "metadata": {},
   "source": [
    "### testing section\n",
    "\n"
   ]
  },
  {
   "cell_type": "code",
   "execution_count": null,
   "metadata": {
    "collapsed": true
   },
   "outputs": [],
   "source": [
    "import nltk\n",
    "\n",
    "text=\"The cats and the wolves are talking\"\n",
    "\n",
    "lemmatizer=nltk.stem.WordNetLemmatizer()\n",
    "\n",
    "tokenizer3 = nltk.tokenize.WordPunctTokenizer()\n",
    "tokens = tokenizer3.tokenize(text)\n",
    "\" \".join(lemmatizer.lemmatize(token) for token in tokens)\n",
    "\n",
    "\n",
    "\n",
    "\n",
    "\n",
    "\n",
    "def tokenLemmatizer(text):\n",
    "    lemmatizer=nltk.stem.WordNetLemmatizer()\n",
    "    tokenizer3 = nltk.tokenize.WordPunctTokenizer()\n",
    "    tokens = tokenizer3.tokenize(text)\n",
    "    return (\" \".join(lemmatizer.lemmatize(token) for token in tokens))\n",
    "\n",
    "tokenLemmatizer('Wolves goats and sheep')"
   ]
  },
  {
   "cell_type": "code",
   "execution_count": null,
   "metadata": {
    "collapsed": true
   },
   "outputs": [],
   "source": [
    "\n"
   ]
  },
  {
   "cell_type": "code",
   "execution_count": null,
   "metadata": {
    "collapsed": true
   },
   "outputs": [],
   "source": []
  }
 ],
 "metadata": {
  "kernelspec": {
   "display_name": "Python 3",
   "language": "python",
   "name": "python3"
  },
  "language_info": {
   "codemirror_mode": {
    "name": "ipython",
    "version": 3
   },
   "file_extension": ".py",
   "mimetype": "text/x-python",
   "name": "python",
   "nbconvert_exporter": "python",
   "pygments_lexer": "ipython3",
   "version": "3.6.3"
  }
 },
 "nbformat": 4,
 "nbformat_minor": 2
}
